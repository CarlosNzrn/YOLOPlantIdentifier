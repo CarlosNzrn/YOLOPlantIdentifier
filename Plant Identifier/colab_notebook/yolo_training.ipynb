{
  "nbformat": 4,
  "nbformat_minor": 0,
  "metadata": {
    "colab": {
      "name": "Treinamento com YOLO.ipynb",
      "provenance": [],
      "collapsed_sections": [],
      "toc_visible": true
    },
    "kernelspec": {
      "name": "python3",
      "display_name": "Python 3"
    },
    "accelerator": "GPU"
  },
  "cells": [
    {
      "cell_type": "code",
      "metadata": {
        "id": "bwp6NIrsZZFP"
      },
      "source": [
        "# Checar GPU disponível\n",
        "!nvidia-smi"
      ],
      "execution_count": null,
      "outputs": []
    },
    {
      "cell_type": "code",
      "metadata": {
        "id": "9e9ZW3sqMEPO"
      },
      "source": [
        "from google.colab import drive\n",
        "drive.mount('/content/gdrive')\n",
        "!ln -s /content/gdrive/My\\ Drive/ /mydrive\n",
        "!ls /mydrive"
      ],
      "execution_count": null,
      "outputs": []
    },
    {
      "cell_type": "code",
      "metadata": {
        "id": "e03U7Zi-qMr2"
      },
      "source": [
        "# Importar o algoritmo\n",
        "!git clone https://github.com/AlexeyAB/darknet"
      ],
      "execution_count": null,
      "outputs": []
    },
    {
      "cell_type": "code",
      "metadata": {
        "id": "5H-Taj06Tw1c"
      },
      "source": [
        "# Compilar usando GPU disponível\n",
        "%cd darknet\n",
        "!sed -i 's/OPENCV=0/OPENCV=1/' Makefile\n",
        "!sed -i 's/GPU=0/GPU=1/' Makefile\n",
        "!sed -i 's/CUDNN=0/CUDNN=1/' Makefile\n",
        "!make"
      ],
      "execution_count": null,
      "outputs": []
    },
    {
      "cell_type": "code",
      "metadata": {
        "id": "s-RpscgU853t"
      },
      "source": [
        "# Configurar a rede para o treinamento \n",
        "!cp cfg/yolov3.cfg cfg/yolov3_training.cfg"
      ],
      "execution_count": null,
      "outputs": []
    },
    {
      "cell_type": "code",
      "metadata": {
        "id": "5ZgVQRop_vwR"
      },
      "source": [
        "!sed -i 's/batch=1/batch=64/' cfg/yolov3_training.cfg\n",
        "!sed -i 's/subdivisions=1/subdivisions=16/' cfg/yolov3_training.cfg\n",
        "!sed -i 's/max_batches = 500200/max_batches = 6000/' cfg/yolov3_training.cfg\n",
        "!sed -i '610 s@classes=80@classes=3@' cfg/yolov3_training.cfg\n",
        "!sed -i '696 s@classes=80@classes=3@' cfg/yolov3_training.cfg\n",
        "!sed -i '783 s@classes=80@classes=3@' cfg/yolov3_training.cfg\n",
        "!sed -i '603 s@filters=255@filters=24@' cfg/yolov3_training.cfg\n",
        "!sed -i '689 s@filters=255@filters=24@' cfg/yolov3_training.cfg\n",
        "!sed -i '776 s@filters=255@filters=24@' cfg/yolov3_training.cfg"
      ],
      "execution_count": null,
      "outputs": []
    },
    {
      "cell_type": "code",
      "metadata": {
        "id": "nscRN-X2Mr3d"
      },
      "source": [
        "# Criar um diretório para os pesos ajustados\n",
        "!mkdir \"/mydrive/yolov3\""
      ],
      "execution_count": null,
      "outputs": []
    },
    {
      "cell_type": "code",
      "metadata": {
        "id": "7AIBw_psIclz"
      },
      "source": [
        "# Definir as classes\n",
        "!echo -e 'Anacardium occidentale\\nBauhinia variegata\\nClitoria fairchildiana' > data/obj.names\n",
        "!echo -e 'classes= 3\\ntrain  = data/train.txt\\nvalid  = data/train.txt\\nnames = data/obj.names\\nbackup = /mydrive/yolov3' > data/obj.data\n",
        "!mkdir data/obj"
      ],
      "execution_count": null,
      "outputs": []
    },
    {
      "cell_type": "code",
      "metadata": {
        "id": "eZlkzFMW7I_N"
      },
      "source": [
        "# Importar pesos\n",
        "!wget https://pjreddie.com/media/files/darknet53.conv.74"
      ],
      "execution_count": null,
      "outputs": []
    },
    {
      "cell_type": "code",
      "metadata": {
        "id": "CvUQP4PL_4EF"
      },
      "source": [
        "# Extrair as imagens tratadas\n",
        "!unzip /mydrive/yolov3/images.zip -d data/obj"
      ],
      "execution_count": null,
      "outputs": []
    },
    {
      "cell_type": "code",
      "metadata": {
        "id": "5I_0ht7ITMUu"
      },
      "source": [
        "import glob\n",
        "img_lista = glob.glob(\"data/obj/*.jpg\")\n",
        "print(img_lista)"
      ],
      "execution_count": null,
      "outputs": []
    },
    {
      "cell_type": "code",
      "metadata": {
        "id": "EzygoAtMSnon"
      },
      "source": [
        "# Gerar o arquivo training.txt\n",
        "file = open(\"data/train.txt\", \"w\") \n",
        "file.write(\"\\n\".join(img_lista)) \n",
        "file.close() "
      ],
      "execution_count": null,
      "outputs": []
    },
    {
      "cell_type": "code",
      "metadata": {
        "id": "S3_g3jclUzMm"
      },
      "source": [
        "# Iniciar treinamento\n",
        "!./darknet detector train data/obj.data cfg/yolov3_training.cfg darknet53.conv.74 -dont_show -map"
      ],
      "execution_count": null,
      "outputs": []
    }
  ]
}